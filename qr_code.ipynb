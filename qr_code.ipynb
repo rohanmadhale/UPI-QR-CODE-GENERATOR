{
 "cells": [
  {
   "cell_type": "code",
   "execution_count": 1,
   "metadata": {},
   "outputs": [],
   "source": [
    "import qrcode\n",
    "from PIL import Image "
   ]
  },
  {
   "cell_type": "code",
   "execution_count": 41,
   "metadata": {},
   "outputs": [],
   "source": [
    "# Change height and width as per requirement \n",
    "height = 300\n",
    "width = 300\n",
    "\n",
    "# Enter custom file name\n",
    "file_name = 'my-upi-qr-code'\n",
    "\n",
    "\n",
    "# Update Bank details here\n",
    "# You can donate to charity directly usign below link\n",
    "# https://www.ketto.org/fundraiser/mission-oxygen-helping-hospitals-to-save-lives?payment=form\n",
    "\n",
    "bank_account_number = '6999413500377638'\n",
    "bank_ifsc =  'YESB0CMSNOC'\n",
    "\n",
    "#Enter your name \n",
    "name = 'Democracy People Foundation-Ketto'"
   ]
  },
  {
   "cell_type": "code",
   "execution_count": 42,
   "metadata": {
    "scrolled": false
   },
   "outputs": [
    {
     "data": {
      "image/png": "[encoded data removed]",
      "text/plain": [
       "<qrcode.image.pil.PilImage at 0x18fdb7acc08>"
      ]
     },
     "execution_count": 42,
     "metadata": {},
     "output_type": "execute_result"
    }
   ],
   "source": [
    "qr = qrcode.QRCode(\n",
    "    version=1,\n",
    "    error_correction=qrcode.constants.ERROR_CORRECT_H,  # L -> M -> Q -> H\n",
    "    box_size=4,\n",
    "    border=4,\n",
    ")\n",
    "\n",
    "qr.add_data('upi://pay?pa='+str(bank_account_number)+'@'+str(bank_ifsc) +\n",
    "            '.ifsc.npci&pn='+str(name)+'&cu=INR')\n",
    "\n",
    "\n",
    "# Setting fit=True ensures the minimum size.\n",
    "qr.make(fit=str(height)+'x'+str(width))\n",
    "\n",
    "img = qr.make_image(fill_color=\"black\", back_color=\"white\")\n",
    "img"
   ]
  },
  {
   "cell_type": "code",
   "execution_count": 43,
   "metadata": {
    "scrolled": true
   },
   "outputs": [],
   "source": [
    "img.resize((height,width)).save(str(file_name)+'.png')"
   ]
  }
 ],
 "metadata": {
  "kernelspec": {
   "display_name": "Python 3",
   "language": "python",
   "name": "python3"
  },
  "language_info": {
   "codemirror_mode": {
    "name": "ipython",
    "version": 3
   },
   "file_extension": ".py",
   "mimetype": "text/x-python",
   "name": "python",
   "nbconvert_exporter": "python",
   "pygments_lexer": "ipython3",
   "version": "3.7.4"
  }
 },
 "nbformat": 4,
 "nbformat_minor": 2
}
